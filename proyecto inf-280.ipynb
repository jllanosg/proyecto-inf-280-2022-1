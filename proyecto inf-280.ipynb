{
 "cells": [
  {
   "cell_type": "markdown",
   "id": "29a53996",
   "metadata": {},
   "source": [
    "# Proyecto inf-280"
   ]
  },
  {
   "cell_type": "markdown",
   "id": "9890ed1d",
   "metadata": {},
   "source": [
    "Por José Llanos y Ariel Pulgar"
   ]
  },
  {
   "cell_type": "markdown",
   "id": "ef00ad7a",
   "metadata": {},
   "source": [
    "## imports"
   ]
  },
  {
   "cell_type": "code",
   "execution_count": 3,
   "id": "476e6861",
   "metadata": {},
   "outputs": [
    {
     "name": "stdout",
     "output_type": "stream",
     "text": [
      "listo\n"
     ]
    }
   ],
   "source": [
    "import pandas as pd\n",
    "import numpy as np\n",
    "import matplotlib.pyplot as plt\n",
    "import plotly.express as px\n",
    "import statistics as st\n",
    "print(\"listo\")"
   ]
  },
  {
   "cell_type": "markdown",
   "id": "41fda449",
   "metadata": {},
   "source": [
    "## Cargar DataFrame"
   ]
  },
  {
   "cell_type": "code",
   "execution_count": 107,
   "id": "3645a847",
   "metadata": {
    "scrolled": true
   },
   "outputs": [],
   "source": [
    "df = pd.read_csv('rpa/VALPO.csv',sep=\";\",low_memory=False)\n",
    "df_18 = pd.read_csv('rpa/VALPO_2018.csv',sep=\";\",low_memory=False)"
   ]
  },
  {
   "cell_type": "code",
   "execution_count": 109,
   "id": "09b2ef45",
   "metadata": {},
   "outputs": [
    {
     "data": {
      "text/plain": [
       "(207407, 36)"
      ]
     },
     "execution_count": 109,
     "metadata": {},
     "output_type": "execute_result"
    }
   ],
   "source": [
    "df.shape\n",
    "df_18.shape"
   ]
  },
  {
   "cell_type": "code",
   "execution_count": 110,
   "id": "467a17a9",
   "metadata": {
    "scrolled": true
   },
   "outputs": [
    {
     "data": {
      "text/html": [
       "<div>\n",
       "<style scoped>\n",
       "    .dataframe tbody tr th:only-of-type {\n",
       "        vertical-align: middle;\n",
       "    }\n",
       "\n",
       "    .dataframe tbody tr th {\n",
       "        vertical-align: top;\n",
       "    }\n",
       "\n",
       "    .dataframe thead th {\n",
       "        text-align: right;\n",
       "    }\n",
       "</style>\n",
       "<table border=\"1\" class=\"dataframe\">\n",
       "  <thead>\n",
       "    <tr style=\"text-align: right;\">\n",
       "      <th></th>\n",
       "      <th>AGNO</th>\n",
       "      <th>RBD</th>\n",
       "      <th>DGV_RBD</th>\n",
       "      <th>COD_REG_RBD</th>\n",
       "      <th>COD_PRO_RBD</th>\n",
       "      <th>COD_COM_RBD</th>\n",
       "      <th>COD_DEPROV_RBD</th>\n",
       "      <th>COD_DEPE</th>\n",
       "      <th>COD_DEPE2</th>\n",
       "      <th>RURAL_RBD</th>\n",
       "      <th>...</th>\n",
       "      <th>COD_DES_CUR</th>\n",
       "      <th>MRUN</th>\n",
       "      <th>GEN_ALU</th>\n",
       "      <th>FEC_NAC_ALU</th>\n",
       "      <th>COD_REG_ALU</th>\n",
       "      <th>COD_COM_ALU</th>\n",
       "      <th>COD_RAMA</th>\n",
       "      <th>COD_SEC</th>\n",
       "      <th>COD_ESPE</th>\n",
       "      <th>ASISTENCIA</th>\n",
       "    </tr>\n",
       "  </thead>\n",
       "  <tbody>\n",
       "    <tr>\n",
       "      <th>count</th>\n",
       "      <td>207407.0</td>\n",
       "      <td>207407.000000</td>\n",
       "      <td>207407.000000</td>\n",
       "      <td>207407.0</td>\n",
       "      <td>207407.000000</td>\n",
       "      <td>207407.000000</td>\n",
       "      <td>207407.000000</td>\n",
       "      <td>207407.000000</td>\n",
       "      <td>207407.000000</td>\n",
       "      <td>207407.000000</td>\n",
       "      <td>...</td>\n",
       "      <td>207407.000000</td>\n",
       "      <td>2.074070e+05</td>\n",
       "      <td>207407.000000</td>\n",
       "      <td>207407.000000</td>\n",
       "      <td>207407.000000</td>\n",
       "      <td>207407.000000</td>\n",
       "      <td>207407.000000</td>\n",
       "      <td>207407.000000</td>\n",
       "      <td>207407.000000</td>\n",
       "      <td>207407.000000</td>\n",
       "    </tr>\n",
       "    <tr>\n",
       "      <th>mean</th>\n",
       "      <td>2018.0</td>\n",
       "      <td>1607.497929</td>\n",
       "      <td>4.460737</td>\n",
       "      <td>5.0</td>\n",
       "      <td>53.868625</td>\n",
       "      <td>5390.075248</td>\n",
       "      <td>52.530175</td>\n",
       "      <td>2.421871</td>\n",
       "      <td>1.627886</td>\n",
       "      <td>0.047535</td>\n",
       "      <td>...</td>\n",
       "      <td>0.069337</td>\n",
       "      <td>1.275347e+07</td>\n",
       "      <td>1.489853</td>\n",
       "      <td>200543.946053</td>\n",
       "      <td>5.326353</td>\n",
       "      <td>5698.887386</td>\n",
       "      <td>29.966202</td>\n",
       "      <td>31.260372</td>\n",
       "      <td>3126.555353</td>\n",
       "      <td>83.422300</td>\n",
       "    </tr>\n",
       "    <tr>\n",
       "      <th>std</th>\n",
       "      <td>0.0</td>\n",
       "      <td>272.401538</td>\n",
       "      <td>2.745952</td>\n",
       "      <td>0.0</td>\n",
       "      <td>2.760800</td>\n",
       "      <td>274.969349</td>\n",
       "      <td>0.900659</td>\n",
       "      <td>0.983426</td>\n",
       "      <td>0.738135</td>\n",
       "      <td>0.212780</td>\n",
       "      <td>...</td>\n",
       "      <td>0.300171</td>\n",
       "      <td>7.379219e+06</td>\n",
       "      <td>0.499898</td>\n",
       "      <td>459.066109</td>\n",
       "      <td>1.664186</td>\n",
       "      <td>1648.984532</td>\n",
       "      <td>123.130242</td>\n",
       "      <td>128.378481</td>\n",
       "      <td>12839.910977</td>\n",
       "      <td>27.395822</td>\n",
       "    </tr>\n",
       "    <tr>\n",
       "      <th>min</th>\n",
       "      <td>2018.0</td>\n",
       "      <td>1119.000000</td>\n",
       "      <td>0.000000</td>\n",
       "      <td>5.0</td>\n",
       "      <td>51.000000</td>\n",
       "      <td>5101.000000</td>\n",
       "      <td>51.000000</td>\n",
       "      <td>1.000000</td>\n",
       "      <td>1.000000</td>\n",
       "      <td>0.000000</td>\n",
       "      <td>...</td>\n",
       "      <td>0.000000</td>\n",
       "      <td>1.650000e+02</td>\n",
       "      <td>1.000000</td>\n",
       "      <td>190001.000000</td>\n",
       "      <td>1.000000</td>\n",
       "      <td>1101.000000</td>\n",
       "      <td>0.000000</td>\n",
       "      <td>0.000000</td>\n",
       "      <td>0.000000</td>\n",
       "      <td>0.000000</td>\n",
       "    </tr>\n",
       "    <tr>\n",
       "      <th>25%</th>\n",
       "      <td>2018.0</td>\n",
       "      <td>1391.000000</td>\n",
       "      <td>2.000000</td>\n",
       "      <td>5.0</td>\n",
       "      <td>51.000000</td>\n",
       "      <td>5109.000000</td>\n",
       "      <td>52.000000</td>\n",
       "      <td>2.000000</td>\n",
       "      <td>1.000000</td>\n",
       "      <td>0.000000</td>\n",
       "      <td>...</td>\n",
       "      <td>0.000000</td>\n",
       "      <td>6.354070e+06</td>\n",
       "      <td>1.000000</td>\n",
       "      <td>200211.000000</td>\n",
       "      <td>5.000000</td>\n",
       "      <td>5109.000000</td>\n",
       "      <td>0.000000</td>\n",
       "      <td>0.000000</td>\n",
       "      <td>0.000000</td>\n",
       "      <td>86.000000</td>\n",
       "    </tr>\n",
       "    <tr>\n",
       "      <th>50%</th>\n",
       "      <td>2018.0</td>\n",
       "      <td>1590.000000</td>\n",
       "      <td>4.000000</td>\n",
       "      <td>5.0</td>\n",
       "      <td>53.000000</td>\n",
       "      <td>5304.000000</td>\n",
       "      <td>53.000000</td>\n",
       "      <td>2.000000</td>\n",
       "      <td>1.000000</td>\n",
       "      <td>0.000000</td>\n",
       "      <td>...</td>\n",
       "      <td>0.000000</td>\n",
       "      <td>1.274353e+07</td>\n",
       "      <td>1.000000</td>\n",
       "      <td>200602.000000</td>\n",
       "      <td>5.000000</td>\n",
       "      <td>5401.000000</td>\n",
       "      <td>0.000000</td>\n",
       "      <td>0.000000</td>\n",
       "      <td>0.000000</td>\n",
       "      <td>93.000000</td>\n",
       "    </tr>\n",
       "    <tr>\n",
       "      <th>75%</th>\n",
       "      <td>2018.0</td>\n",
       "      <td>1844.000000</td>\n",
       "      <td>7.000000</td>\n",
       "      <td>5.0</td>\n",
       "      <td>57.000000</td>\n",
       "      <td>5701.000000</td>\n",
       "      <td>53.000000</td>\n",
       "      <td>3.000000</td>\n",
       "      <td>2.000000</td>\n",
       "      <td>0.000000</td>\n",
       "      <td>...</td>\n",
       "      <td>0.000000</td>\n",
       "      <td>1.913188e+07</td>\n",
       "      <td>2.000000</td>\n",
       "      <td>200904.000000</td>\n",
       "      <td>5.000000</td>\n",
       "      <td>5701.000000</td>\n",
       "      <td>0.000000</td>\n",
       "      <td>0.000000</td>\n",
       "      <td>0.000000</td>\n",
       "      <td>97.000000</td>\n",
       "    </tr>\n",
       "    <tr>\n",
       "      <th>max</th>\n",
       "      <td>2018.0</td>\n",
       "      <td>2101.000000</td>\n",
       "      <td>9.000000</td>\n",
       "      <td>5.0</td>\n",
       "      <td>58.000000</td>\n",
       "      <td>5804.000000</td>\n",
       "      <td>54.000000</td>\n",
       "      <td>5.000000</td>\n",
       "      <td>4.000000</td>\n",
       "      <td>1.000000</td>\n",
       "      <td>...</td>\n",
       "      <td>3.000000</td>\n",
       "      <td>2.576885e+07</td>\n",
       "      <td>2.000000</td>\n",
       "      <td>201802.000000</td>\n",
       "      <td>16.000000</td>\n",
       "      <td>16304.000000</td>\n",
       "      <td>800.000000</td>\n",
       "      <td>810.000000</td>\n",
       "      <td>81005.000000</td>\n",
       "      <td>100.000000</td>\n",
       "    </tr>\n",
       "  </tbody>\n",
       "</table>\n",
       "<p>8 rows × 26 columns</p>\n",
       "</div>"
      ],
      "text/plain": [
       "           AGNO            RBD        DGV_RBD  COD_REG_RBD    COD_PRO_RBD  \\\n",
       "count  207407.0  207407.000000  207407.000000     207407.0  207407.000000   \n",
       "mean     2018.0    1607.497929       4.460737          5.0      53.868625   \n",
       "std         0.0     272.401538       2.745952          0.0       2.760800   \n",
       "min      2018.0    1119.000000       0.000000          5.0      51.000000   \n",
       "25%      2018.0    1391.000000       2.000000          5.0      51.000000   \n",
       "50%      2018.0    1590.000000       4.000000          5.0      53.000000   \n",
       "75%      2018.0    1844.000000       7.000000          5.0      57.000000   \n",
       "max      2018.0    2101.000000       9.000000          5.0      58.000000   \n",
       "\n",
       "         COD_COM_RBD  COD_DEPROV_RBD       COD_DEPE      COD_DEPE2  \\\n",
       "count  207407.000000   207407.000000  207407.000000  207407.000000   \n",
       "mean     5390.075248       52.530175       2.421871       1.627886   \n",
       "std       274.969349        0.900659       0.983426       0.738135   \n",
       "min      5101.000000       51.000000       1.000000       1.000000   \n",
       "25%      5109.000000       52.000000       2.000000       1.000000   \n",
       "50%      5304.000000       53.000000       2.000000       1.000000   \n",
       "75%      5701.000000       53.000000       3.000000       2.000000   \n",
       "max      5804.000000       54.000000       5.000000       4.000000   \n",
       "\n",
       "           RURAL_RBD  ...    COD_DES_CUR          MRUN        GEN_ALU  \\\n",
       "count  207407.000000  ...  207407.000000  2.074070e+05  207407.000000   \n",
       "mean        0.047535  ...       0.069337  1.275347e+07       1.489853   \n",
       "std         0.212780  ...       0.300171  7.379219e+06       0.499898   \n",
       "min         0.000000  ...       0.000000  1.650000e+02       1.000000   \n",
       "25%         0.000000  ...       0.000000  6.354070e+06       1.000000   \n",
       "50%         0.000000  ...       0.000000  1.274353e+07       1.000000   \n",
       "75%         0.000000  ...       0.000000  1.913188e+07       2.000000   \n",
       "max         1.000000  ...       3.000000  2.576885e+07       2.000000   \n",
       "\n",
       "         FEC_NAC_ALU    COD_REG_ALU    COD_COM_ALU       COD_RAMA  \\\n",
       "count  207407.000000  207407.000000  207407.000000  207407.000000   \n",
       "mean   200543.946053       5.326353    5698.887386      29.966202   \n",
       "std       459.066109       1.664186    1648.984532     123.130242   \n",
       "min    190001.000000       1.000000    1101.000000       0.000000   \n",
       "25%    200211.000000       5.000000    5109.000000       0.000000   \n",
       "50%    200602.000000       5.000000    5401.000000       0.000000   \n",
       "75%    200904.000000       5.000000    5701.000000       0.000000   \n",
       "max    201802.000000      16.000000   16304.000000     800.000000   \n",
       "\n",
       "             COD_SEC       COD_ESPE     ASISTENCIA  \n",
       "count  207407.000000  207407.000000  207407.000000  \n",
       "mean       31.260372    3126.555353      83.422300  \n",
       "std       128.378481   12839.910977      27.395822  \n",
       "min         0.000000       0.000000       0.000000  \n",
       "25%         0.000000       0.000000      86.000000  \n",
       "50%         0.000000       0.000000      93.000000  \n",
       "75%         0.000000       0.000000      97.000000  \n",
       "max       810.000000   81005.000000     100.000000  \n",
       "\n",
       "[8 rows x 26 columns]"
      ]
     },
     "execution_count": 110,
     "metadata": {},
     "output_type": "execute_result"
    }
   ],
   "source": [
    "df_18.describe()\n"
   ]
  },
  {
   "cell_type": "markdown",
   "id": "076625e1",
   "metadata": {},
   "source": [
    "## Contar NaN"
   ]
  },
  {
   "cell_type": "code",
   "execution_count": 111,
   "id": "3250348b",
   "metadata": {
    "scrolled": true
   },
   "outputs": [],
   "source": [
    "Dataframe = pd.DataFrame\n",
    "def contar_na(df: Dataframe) -> int:\n",
    "    return df.isna().sum().sum()"
   ]
  },
  {
   "cell_type": "code",
   "execution_count": 112,
   "id": "aaa7e135",
   "metadata": {},
   "outputs": [
    {
     "name": "stdout",
     "output_type": "stream",
     "text": [
      "0\n",
      "0\n"
     ]
    }
   ],
   "source": [
    "print(contar_na(df))\n",
    "print(contar_na(df_18))"
   ]
  },
  {
   "cell_type": "markdown",
   "id": "9e886727",
   "metadata": {},
   "source": [
    "## Discriminar entre columnas"
   ]
  },
  {
   "cell_type": "code",
   "execution_count": 130,
   "id": "a07740f3",
   "metadata": {
    "scrolled": true
   },
   "outputs": [
    {
     "name": "stdout",
     "output_type": "stream",
     "text": [
      "Municipales 2021: (84163, 37)\n",
      "Municipales 2018: (104171, 36)\n",
      "Particulares subvencionados 2021: (82308, 37)\n",
      "Particulares subvencionados 2018: (81524, 36)\n",
      "Particulares pagados 2021: (16019, 37)\n",
      "Particulares pagados 2018: (16432, 36)\n"
     ]
    }
   ],
   "source": [
    "# Seleccionamos las filas donde son solo municipales\n",
    "\n",
    "# municipales COD_DEPE2 == 1\n",
    "df_municipales = df.loc[df['COD_DEPE2']==1]\n",
    "df_municipales_18 = df_18.loc[df_18['COD_DEPE2']==1]\n",
    "print(\"Municipales 2021:\",df_municipales.shape)\n",
    "print(\"Municipales 2018:\",df_municipales_18.shape)\n",
    "\n",
    "# particular subvencionado COD_DEPE2 == 2\n",
    "df_ps = df.loc[df['COD_DEPE2']==2]\n",
    "df_ps_18 = df_18.loc[df_18['COD_DEPE2']==2]\n",
    "print(\"Particulares subvencionados 2021:\",df_ps.shape)\n",
    "print(\"Particulares subvencionados 2018:\",df_ps_18.shape)\n",
    "\n",
    "# particular pagado COD_DEPE2 == 3\n",
    "df_pp = df.loc[df['COD_DEPE2']==3]\n",
    "df_pp_18 = df_18.loc[df_18['COD_DEPE2']==3]\n",
    "print(\"Particulares pagados 2021:\",df_pp.shape)\n",
    "print(\"Particulares pagados 2018:\",df_pp_18.shape)"
   ]
  },
  {
   "cell_type": "markdown",
   "id": "452c8efe",
   "metadata": {},
   "source": [
    "## Funciones de utilidad"
   ]
  },
  {
   "cell_type": "code",
   "execution_count": 138,
   "id": "caed5d0f",
   "metadata": {},
   "outputs": [],
   "source": [
    "def removekey(d, key):\n",
    "        r = dict(d)\n",
    "        del r[key]\n",
    "        return r\n",
    "    \n",
    "def frecuencias_notas(df: Dataframe):\n",
    "    \n",
    "    lista = df[\"PROM_GRAL\"].tolist()\n",
    "    frecuencias = {}\n",
    "    for nota in lista:\n",
    "        if nota not in frecuencias:\n",
    "            frecuencias[nota]=1\n",
    "        else:\n",
    "            frecuencias[nota]+=1\n",
    "    x = []\n",
    "    y = []\n",
    "    \n",
    "    frecuencias = removekey(frecuencias,'0')\n",
    "    for llave in frecuencias:\n",
    "        x.append(float(llave.replace(\",\",\".\")))\n",
    "        y.append(frecuencias[llave])\n",
    "    \n",
    "    dc = {'Nota': x, 'Frecuencia':y} \n",
    "    dfr = pd.DataFrame(dc)\n",
    "    return dfr"
   ]
  },
  {
   "cell_type": "markdown",
   "id": "30c9bc08",
   "metadata": {},
   "source": [
    "## Frecuencia de notas"
   ]
  },
  {
   "cell_type": "code",
   "execution_count": 190,
   "id": "034ebe8f",
   "metadata": {
    "scrolled": true
   },
   "outputs": [],
   "source": [
    "#Frecuencias notas municipales\n",
    "dfm = frecuencias_notas(df_municipales).sort_values(by=\"Nota\")\n",
    "dfm_18 = frecuencias_notas(df_municipales_18).sort_values(by=\"Nota\")\n",
    "\n",
    "#Frecuencias notas particulares pagados\n",
    "dfpp = frecuencias_notas(df_pp).sort_values(by=\"Nota\")\n",
    "dfpp_18 = frecuencias_notas(df_pp_18).sort_values(by=\"Nota\")\n",
    "\n",
    "#Frecuencias notas particulares subvencionados\n",
    "dfps =frecuencias_notas(df_ps).sort_values(by=\"Nota\")\n",
    "dfps_18 =frecuencias_notas(df_ps_18).sort_values(by=\"Nota\")"
   ]
  },
  {
   "cell_type": "markdown",
   "id": "69aaccac",
   "metadata": {},
   "source": [
    "## Mediana de notas"
   ]
  },
  {
   "cell_type": "code",
   "execution_count": 214,
   "id": "a83c5946",
   "metadata": {},
   "outputs": [],
   "source": [
    "def mediana_notas(df: Dataframe):\n",
    "    notas=list()\n",
    "    for nota in df['Nota'].tolist():\n",
    "        i=df.loc[df['Nota']==nota]['Frecuencia'].tolist()[0]\n",
    "        while i>0:\n",
    "            notas.append(nota)\n",
    "            i-=1\n",
    "    return st.median(notas)"
   ]
  },
  {
   "cell_type": "markdown",
   "id": "edefc283",
   "metadata": {},
   "source": [
    "## Gráficos de notas"
   ]
  },
  {
   "cell_type": "code",
   "execution_count": 240,
   "id": "d1af9367",
   "metadata": {
    "scrolled": true
   },
   "outputs": [
    {
     "data": {
      "text/plain": [
       "Text(6.3, 1, '6.3')"
      ]
     },
     "execution_count": 240,
     "metadata": {},
     "output_type": "execute_result"
    },
    {
     "data": {
      "image/png": "[encoded data removed]",
      "text/plain": [
       "<Figure size 864x864 with 6 Axes>"
      ]
     },
     "metadata": {
      "needs_background": "light"
     },
     "output_type": "display_data"
    }
   ],
   "source": [
    "fig, axs = plt.subplots(3,2,figsize=(12,12))\n",
    "\n",
    "#municipales\n",
    "axs[0,0].scatter(x=dfm['Nota'],y=dfm['Frecuencia'])\n",
    "axs[0, 0].set_title('Notas Municipales 2021')\n",
    "\n",
    "med_dfm = mediana_notas(dfm)\n",
    "axs[0,0].axvline(med_dfm)\n",
    "axs[0,0].text(med_dfm,1,med_dfm)\n",
    "\n",
    "\n",
    "axs[0,1].scatter(x=dfm_18['Nota'],y=dfm_18['Frecuencia'])\n",
    "axs[0, 1].set_title('Notas Municipales 2018')\n",
    "\n",
    "med_dfm_18 = mediana_notas(dfm_18)\n",
    "axs[0,1].axvline(med_dfm_18)\n",
    "axs[0,1].text(med_dfm_18,1,med_dfm_18)\n",
    "\n",
    "\n",
    "#particulares subvencionados\n",
    "axs[1,0].scatter(x=dfps['Nota'],y=dfps['Frecuencia'])\n",
    "axs[1, 0].set_title('Notas particulares subvencionados 2021')\n",
    "\n",
    "med_dfps = mediana_notas(dfps)\n",
    "axs[1,0].axvline(med_dfps)\n",
    "axs[1,0].text(med_dfps,1,med_dfps)\n",
    "\n",
    "\n",
    "axs[1,1].scatter(x=dfps_18['Nota'],y=dfps_18['Frecuencia'])\n",
    "axs[1, 1].set_title('Notas particulares subvencionados 2018')\n",
    "\n",
    "med_dfps_18 = mediana_notas(dfps_18)\n",
    "axs[1,1].axvline(med_dfps_18)\n",
    "axs[1,1].text(med_dfps,1,med_dfps_18)\n",
    "\n",
    "\n",
    "#particulares pagados\n",
    "axs[2,0].scatter(x=dfpp['Nota'],y=dfpp['Frecuencia'])\n",
    "axs[2, 0].set_title('Notas particulares pagados 2021')\n",
    "axs[2,0].axvline(mediana_notas(dfpp))\n",
    "\n",
    "med_dfpp = mediana_notas(dfpp)\n",
    "axs[2,0].axvline(med_dfpp)\n",
    "axs[2,0].text(med_dfpp,1,med_dfpp)\n",
    "\n",
    "\n",
    "axs[2,1].scatter(x=dfpp_18['Nota'],y=dfpp_18['Frecuencia'])\n",
    "axs[2, 1].set_title('Notas particulares pagados 2018')\n",
    "\n",
    "med_dfpp_18 = mediana_notas(dfpp_18)\n",
    "axs[2,1].axvline(med_dfpp_18)\n",
    "axs[2,1].text(med_dfpp_18,1,med_dfpp_18)"
   ]
  },
  {
   "cell_type": "markdown",
   "id": "b74c0438",
   "metadata": {},
   "source": [
    "## Análisis por frecuencia relativa"
   ]
  },
  {
   "cell_type": "code",
   "execution_count": 223,
   "id": "d9f76384",
   "metadata": {
    "scrolled": true
   },
   "outputs": [
    {
     "data": {
      "text/plain": [
       "<AxesSubplot:title={'center':'Frecuencia relativa municipales 2018'}, xlabel='Nota', ylabel='Frecuencia'>"
      ]
     },
     "execution_count": 223,
     "metadata": {},
     "output_type": "execute_result"
    },
    {
     "data": {
      "image/png": "[encoded data removed]",
      "text/plain": [
       "<Figure size 432x288 with 1 Axes>"
      ]
     },
     "metadata": {
      "needs_background": "light"
     },
     "output_type": "display_data"
    },
    {
     "data": {
      "image/png": "[encoded data removed]",
      "text/plain": [
       "<Figure size 432x288 with 1 Axes>"
      ]
     },
     "metadata": {
      "needs_background": "light"
     },
     "output_type": "display_data"
    }
   ],
   "source": [
    "def notas_freq_relativa(df: Dataframe):\n",
    "    y = df['Nota'].tolist()\n",
    "    suma = sum(df['Frecuencia'])\n",
    "    x = list()\n",
    "    \n",
    "    for item in df['Frecuencia'].tolist():\n",
    "        x.append(item/suma)\n",
    "    dic = {'Nota': y, 'Frecuencia': x}\n",
    "    return pd.DataFrame(dic)\n",
    "\n",
    "dfppr_18 = notas_freq_relativa(dfpp_18)\n",
    "dfmr_18 = notas_freq_relativa(dfm_18)\n",
    "\n",
    "\n",
    "\n",
    "dfppr_18.plot.scatter(x='Nota',y='Frecuencia', title='Frecuencia relativa particulares pagados 2018')\n",
    "dfmr_18.plot.scatter(x='Nota',y='Frecuencia', title=\"Frecuencia relativa municipales 2018\")"
   ]
  },
  {
   "cell_type": "code",
   "execution_count": 239,
   "id": "ad63edc6",
   "metadata": {},
   "outputs": [
    {
     "data": {
      "image/png": "[encoded data removed]",
      "text/plain": [
       "<Figure size 720x360 with 1 Axes>"
      ]
     },
     "metadata": {
      "needs_background": "light"
     },
     "output_type": "display_data"
    }
   ],
   "source": [
    "f = plt.figure(figsize = (10,5))\n",
    "plt.scatter(x=dfppr_18['Nota'],y=dfppr_18['Frecuencia'],label='Particulares pagados')\n",
    "plt.scatter(x=dfmr_18['Nota'],y=dfmr_18['Frecuencia'],label='Municipales')\n",
    "\n",
    "plt.legend(loc=\"upper left\")\n",
    "plt.xlabel(\"Nota\")\n",
    "plt.ylabel(\"Frecuencia relativa\")\n",
    "plt.title(\"Notas por alumno por tipo de institución\")\n",
    "plt.xticks(np.arange(1, 7.5, 0.5))\n",
    "\n",
    "\n",
    "\n",
    "\n",
    "plt.show()"
   ]
  },
  {
   "cell_type": "markdown",
   "id": "892d2701",
   "metadata": {},
   "source": [
    "# Datos SIMCE"
   ]
  },
  {
   "cell_type": "code",
   "execution_count": 11,
   "id": "0191c75b",
   "metadata": {},
   "outputs": [],
   "source": [
    "dfsimce = pd.read_csv('simce/simce2m2018_rbd_publica_final_valpo.csv',sep=';')"
   ]
  },
  {
   "cell_type": "code",
   "execution_count": 5,
   "id": "7a31a017",
   "metadata": {},
   "outputs": [
    {
     "data": {
      "text/html": [
       "<div>\n",
       "<style scoped>\n",
       "    .dataframe tbody tr th:only-of-type {\n",
       "        vertical-align: middle;\n",
       "    }\n",
       "\n",
       "    .dataframe tbody tr th {\n",
       "        vertical-align: top;\n",
       "    }\n",
       "\n",
       "    .dataframe thead th {\n",
       "        text-align: right;\n",
       "    }\n",
       "</style>\n",
       "<table border=\"1\" class=\"dataframe\">\n",
       "  <thead>\n",
       "    <tr style=\"text-align: right;\">\n",
       "      <th></th>\n",
       "      <th>agno</th>\n",
       "      <th>grado</th>\n",
       "      <th>rbd</th>\n",
       "      <th>dvrbd</th>\n",
       "      <th>nom_rbd</th>\n",
       "      <th>cod_reg_rbd</th>\n",
       "      <th>nom_reg_rbd</th>\n",
       "      <th>cod_pro_rbd</th>\n",
       "      <th>nom_pro_rbd</th>\n",
       "      <th>cod_com_rbd</th>\n",
       "      <th>...</th>\n",
       "      <th>marcadif_nat2m_rbd</th>\n",
       "      <th>palu_eda_ins_lect2m_rbd</th>\n",
       "      <th>palu_eda_ele_lect2m_rbd</th>\n",
       "      <th>palu_eda_ade_lect2m_rbd</th>\n",
       "      <th>palu_eda_ins_mate2m_rbd</th>\n",
       "      <th>palu_eda_ele_mate2m_rbd</th>\n",
       "      <th>palu_eda_ade_mate2m_rbd</th>\n",
       "      <th>noaplica</th>\n",
       "      <th>fecha_bbdd</th>\n",
       "      <th>codigo_bbdd</th>\n",
       "    </tr>\n",
       "  </thead>\n",
       "  <tbody>\n",
       "    <tr>\n",
       "      <th>0</th>\n",
       "      <td>2018</td>\n",
       "      <td>2m</td>\n",
       "      <td>1</td>\n",
       "      <td>9</td>\n",
       "      <td>LICEO POLITECNICO ARICA</td>\n",
       "      <td>15</td>\n",
       "      <td>Región de Arica y Parinacota</td>\n",
       "      <td>151</td>\n",
       "      <td>ARICA</td>\n",
       "      <td>15101</td>\n",
       "      <td>...</td>\n",
       "      <td>3.0</td>\n",
       "      <td>86,5</td>\n",
       "      <td>11,5</td>\n",
       "      <td>1,9</td>\n",
       "      <td>92,3</td>\n",
       "      <td>7,7</td>\n",
       "      <td>0</td>\n",
       "      <td>0</td>\n",
       "      <td>20190628</td>\n",
       "      <td>final20190628v1</td>\n",
       "    </tr>\n",
       "    <tr>\n",
       "      <th>1</th>\n",
       "      <td>2018</td>\n",
       "      <td>2m</td>\n",
       "      <td>4</td>\n",
       "      <td>3</td>\n",
       "      <td>LICEO OCTAVIO PALMA PEREZ</td>\n",
       "      <td>15</td>\n",
       "      <td>Región de Arica y Parinacota</td>\n",
       "      <td>151</td>\n",
       "      <td>ARICA</td>\n",
       "      <td>15101</td>\n",
       "      <td>...</td>\n",
       "      <td>NaN</td>\n",
       "      <td>31,9</td>\n",
       "      <td>35,6</td>\n",
       "      <td>32,4</td>\n",
       "      <td>25</td>\n",
       "      <td>47,8</td>\n",
       "      <td>27,2</td>\n",
       "      <td>0</td>\n",
       "      <td>20190628</td>\n",
       "      <td>final20190628v1</td>\n",
       "    </tr>\n",
       "    <tr>\n",
       "      <th>2</th>\n",
       "      <td>2018</td>\n",
       "      <td>2m</td>\n",
       "      <td>5</td>\n",
       "      <td>1</td>\n",
       "      <td>JOVINA NARANJO FERNANDEZ</td>\n",
       "      <td>15</td>\n",
       "      <td>Región de Arica y Parinacota</td>\n",
       "      <td>151</td>\n",
       "      <td>ARICA</td>\n",
       "      <td>15101</td>\n",
       "      <td>...</td>\n",
       "      <td>NaN</td>\n",
       "      <td>33,6</td>\n",
       "      <td>43,2</td>\n",
       "      <td>23,2</td>\n",
       "      <td>27,2</td>\n",
       "      <td>58,4</td>\n",
       "      <td>14,4</td>\n",
       "      <td>0</td>\n",
       "      <td>20190628</td>\n",
       "      <td>final20190628v1</td>\n",
       "    </tr>\n",
       "    <tr>\n",
       "      <th>3</th>\n",
       "      <td>2018</td>\n",
       "      <td>2m</td>\n",
       "      <td>7</td>\n",
       "      <td>8</td>\n",
       "      <td>L. POLI. ANTONIO VARAS DE LA BARRA</td>\n",
       "      <td>15</td>\n",
       "      <td>Región de Arica y Parinacota</td>\n",
       "      <td>151</td>\n",
       "      <td>ARICA</td>\n",
       "      <td>15101</td>\n",
       "      <td>...</td>\n",
       "      <td>NaN</td>\n",
       "      <td>78,4</td>\n",
       "      <td>16,3</td>\n",
       "      <td>5,3</td>\n",
       "      <td>76,3</td>\n",
       "      <td>22,1</td>\n",
       "      <td>1,7</td>\n",
       "      <td>0</td>\n",
       "      <td>20190628</td>\n",
       "      <td>final20190628v1</td>\n",
       "    </tr>\n",
       "    <tr>\n",
       "      <th>4</th>\n",
       "      <td>2018</td>\n",
       "      <td>2m</td>\n",
       "      <td>8</td>\n",
       "      <td>6</td>\n",
       "      <td>COLEGIO INTEGRADO EDUARDO FREI MONTALVA</td>\n",
       "      <td>15</td>\n",
       "      <td>Región de Arica y Parinacota</td>\n",
       "      <td>151</td>\n",
       "      <td>ARICA</td>\n",
       "      <td>15101</td>\n",
       "      <td>...</td>\n",
       "      <td>NaN</td>\n",
       "      <td>65,6</td>\n",
       "      <td>25</td>\n",
       "      <td>9,4</td>\n",
       "      <td>75,8</td>\n",
       "      <td>22,6</td>\n",
       "      <td>1,6</td>\n",
       "      <td>0</td>\n",
       "      <td>20190628</td>\n",
       "      <td>final20190628v1</td>\n",
       "    </tr>\n",
       "  </tbody>\n",
       "</table>\n",
       "<p>5 rows × 48 columns</p>\n",
       "</div>"
      ],
      "text/plain": [
       "   agno grado  rbd  dvrbd                                  nom_rbd  \\\n",
       "0  2018    2m    1      9                  LICEO POLITECNICO ARICA   \n",
       "1  2018    2m    4      3                LICEO OCTAVIO PALMA PEREZ   \n",
       "2  2018    2m    5      1                 JOVINA NARANJO FERNANDEZ   \n",
       "3  2018    2m    7      8       L. POLI. ANTONIO VARAS DE LA BARRA   \n",
       "4  2018    2m    8      6  COLEGIO INTEGRADO EDUARDO FREI MONTALVA   \n",
       "\n",
       "   cod_reg_rbd                   nom_reg_rbd  cod_pro_rbd nom_pro_rbd  \\\n",
       "0           15  Región de Arica y Parinacota          151       ARICA   \n",
       "1           15  Región de Arica y Parinacota          151       ARICA   \n",
       "2           15  Región de Arica y Parinacota          151       ARICA   \n",
       "3           15  Región de Arica y Parinacota          151       ARICA   \n",
       "4           15  Región de Arica y Parinacota          151       ARICA   \n",
       "\n",
       "   cod_com_rbd  ... marcadif_nat2m_rbd  palu_eda_ins_lect2m_rbd  \\\n",
       "0        15101  ...                3.0                     86,5   \n",
       "1        15101  ...                NaN                     31,9   \n",
       "2        15101  ...                NaN                     33,6   \n",
       "3        15101  ...                NaN                     78,4   \n",
       "4        15101  ...                NaN                     65,6   \n",
       "\n",
       "   palu_eda_ele_lect2m_rbd  palu_eda_ade_lect2m_rbd  palu_eda_ins_mate2m_rbd  \\\n",
       "0                     11,5                      1,9                     92,3   \n",
       "1                     35,6                     32,4                       25   \n",
       "2                     43,2                     23,2                     27,2   \n",
       "3                     16,3                      5,3                     76,3   \n",
       "4                       25                      9,4                     75,8   \n",
       "\n",
       "   palu_eda_ele_mate2m_rbd  palu_eda_ade_mate2m_rbd  noaplica  fecha_bbdd  \\\n",
       "0                      7,7                        0         0    20190628   \n",
       "1                     47,8                     27,2         0    20190628   \n",
       "2                     58,4                     14,4         0    20190628   \n",
       "3                     22,1                      1,7         0    20190628   \n",
       "4                     22,6                      1,6         0    20190628   \n",
       "\n",
       "       codigo_bbdd  \n",
       "0  final20190628v1  \n",
       "1  final20190628v1  \n",
       "2  final20190628v1  \n",
       "3  final20190628v1  \n",
       "4  final20190628v1  \n",
       "\n",
       "[5 rows x 48 columns]"
      ]
     },
     "execution_count": 5,
     "metadata": {},
     "output_type": "execute_result"
    }
   ],
   "source": [
    "dfsimce.head()"
   ]
  },
  {
   "cell_type": "code",
   "execution_count": 12,
   "id": "582c8a86",
   "metadata": {
    "scrolled": true
   },
   "outputs": [
    {
     "data": {
      "text/plain": [
       "(383, 48)"
      ]
     },
     "execution_count": 12,
     "metadata": {},
     "output_type": "execute_result"
    }
   ],
   "source": [
    "dfsimce.shape"
   ]
  },
  {
   "cell_type": "markdown",
   "id": "77099b8b",
   "metadata": {},
   "source": [
    "## Discriminar entre columnas"
   ]
  },
  {
   "cell_type": "code",
   "execution_count": 14,
   "id": "f2e82224",
   "metadata": {},
   "outputs": [],
   "source": [
    "# cod_depe2 : 1 --> municipal\n",
    "#             2 --> particular subvencionado\n",
    "#             3 --> particular pagado\n",
    "\n",
    "df_simce_muni = dfsimce.loc[dfsimce['cod_depe2']==1]\n",
    "\n",
    "df_simce_ps = dfsimce.loc[dfsimce['cod_depe2']==2]\n",
    "\n",
    "df_simce_pp = dfsimce.loc[dfsimce['cod_depe2']==3]\n"
   ]
  },
  {
   "cell_type": "code",
   "execution_count": 18,
   "id": "f36f595b",
   "metadata": {},
   "outputs": [],
   "source": [
    "Dataframe = pd.DataFrame\n",
    "def simce_a_frecuencias(df: Dataframe, prueba: str):\n",
    "    dic = {}\n",
    "    lista = df[prueba].tolist()\n",
    "    for nota in lista:\n",
    "        if np.isnan(nota):\n",
    "            pass\n",
    "        elif nota not in dic:\n",
    "            dic[nota]=1\n",
    "        else:\n",
    "            dic[nota]+=1\n",
    "    x = []\n",
    "    y = []\n",
    "    \n",
    "    for llave in dic:\n",
    "        x.append(llave)\n",
    "        y.append(dic[llave])\n",
    "    dc = {'Puntaje': x, 'Frecuencia':y} \n",
    "    dfr = pd.DataFrame(dc)\n",
    "    return dfr\n",
    "\n"
   ]
  },
  {
   "cell_type": "code",
   "execution_count": 23,
   "id": "633c320e",
   "metadata": {},
   "outputs": [],
   "source": [
    "var = simce_a_frecuencias(df_simce_ps,\"prom_lect2m_rbd\")\n",
    "\n",
    "var1 = simce_a_frecuencias(df_simce_pp,\"prom_lect2m_rbd\")\n",
    "\n",
    "var2 = simce_a_frecuencias(df_simce_muni,\"prom_lect2m_rbd\")"
   ]
  },
  {
   "cell_type": "code",
   "execution_count": 25,
   "id": "2e8f9bf1",
   "metadata": {
    "scrolled": true
   },
   "outputs": [
    {
     "data": {
      "image/png": "[encoded data removed]",
      "text/plain": [
       "<Figure size 720x720 with 1 Axes>"
      ]
     },
     "metadata": {
      "needs_background": "light"
     },
     "output_type": "display_data"
    }
   ],
   "source": [
    "# Calculando puntaje mínimo y máximo\n",
    "puntajes = list()\n",
    "for puntaje in var[\"Puntaje\"]:\n",
    "    puntajes.append(puntaje)\n",
    "for puntaje in var1[\"Puntaje\"]:\n",
    "    puntajes.append(puntaje)\n",
    "for puntaje in var2[\"Puntaje\"]:\n",
    "    puntajes.append(puntaje)\n",
    "minimo = min(puntajes)    \n",
    "maximo = max(puntajes)\n",
    "\n",
    "\n",
    "bins = np.linspace(minimo,maximo, 15)\n",
    "plt.figure(figsize=(10,10))\n",
    "plt.hist([var[\"Puntaje\"],var1[\"Puntaje\"],var2[\"Puntaje\"]],bins = bins,alpha=0.9,label=['Particulares subvencionados', 'Particulares pagados','Municipales'])\n",
    "plt.legend(loc='upper right')\n",
    "plt.title(\"Resultados SIMCE lectura por tipo de institución\")\n",
    "plt.xlabel(\"Puntaje SIMCE\")\n",
    "plt.ylabel(\"Cantidad de establecimientos\")\n",
    "#plt.hist(,rwidth=0.9,alpha=0.5,bins = bins)\n",
    "plt.show()"
   ]
  },
  {
   "cell_type": "code",
   "execution_count": 356,
   "id": "4e87153a",
   "metadata": {},
   "outputs": [],
   "source": [
    "# Frecuencias\n",
    "\n",
    "lenguaje_ps = simce_a_frecuencias(df_simce_ps,\"prom_lect2m_rbd\")\n",
    "\n",
    "lenguaje_pp = simce_a_frecuencias(df_simce_pp,\"prom_lect2m_rbd\")\n",
    "\n",
    "lenguaje_muni = simce_a_frecuencias(df_simce_muni,\"prom_lect2m_rbd\")"
   ]
  },
  {
   "cell_type": "code",
   "execution_count": 357,
   "id": "7c064114",
   "metadata": {},
   "outputs": [
    {
     "data": {
      "image/png": "[encoded data removed]",
      "text/plain": [
       "<Figure size 936x936 with 1 Axes>"
      ]
     },
     "metadata": {
      "needs_background": "light"
     },
     "output_type": "display_data"
    }
   ],
   "source": [
    "puntajes = list()\n",
    "for puntaje in lenguaje_ps[\"Puntaje\"]:\n",
    "    puntajes.append(puntaje)\n",
    "for puntaje in lenguaje_pp[\"Puntaje\"]:\n",
    "    puntajes.append(puntaje)\n",
    "for puntaje in lenguaje_muni[\"Puntaje\"]:\n",
    "    puntajes.append(puntaje)\n",
    "minimo = min(puntajes)    \n",
    "maximo = max(puntajes)\n",
    "\n",
    "\n",
    "bins = np.linspace(minimo,maximo, 20)\n",
    "plt.figure(figsize=(13,13))\n",
    "plt.hist([lenguaje_ps[\"Puntaje\"],lenguaje_pp[\"Puntaje\"],lenguaje_muni[\"Puntaje\"]],bins = bins,alpha=0.9,label=['Particulares subvencionados', 'Particulares pagados','Municipales'])\n",
    "plt.legend(loc='upper right')\n",
    "plt.title(\"Resultados SIMCE lenguaje por tipo de institución\")\n",
    "plt.xlabel(\"Puntaje SIMCE\")\n",
    "plt.ylabel(\"Frecuencia\")\n",
    "plt.show()"
   ]
  },
  {
   "cell_type": "code",
   "execution_count": null,
   "id": "e6370c47",
   "metadata": {},
   "outputs": [],
   "source": []
  }
 ],
 "metadata": {
  "kernelspec": {
   "display_name": "Python 3 (ipykernel)",
   "language": "python",
   "name": "python3"
  },
  "language_info": {
   "codemirror_mode": {
    "name": "ipython",
    "version": 3
   },
   "file_extension": ".py",
   "mimetype": "text/x-python",
   "name": "python",
   "nbconvert_exporter": "python",
   "pygments_lexer": "ipython3",
   "version": "3.9.0"
  }
 },
 "nbformat": 4,
 "nbformat_minor": 5
}
